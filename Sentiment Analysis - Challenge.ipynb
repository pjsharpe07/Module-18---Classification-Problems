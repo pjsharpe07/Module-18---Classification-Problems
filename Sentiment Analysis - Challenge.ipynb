{
 "cells": [
  {
   "cell_type": "code",
   "execution_count": 141,
   "metadata": {},
   "outputs": [],
   "source": [
    "%matplotlib inline\n",
    "import numpy as np\n",
    "import pandas as pd\n",
    "import scipy\n",
    "import sklearn\n",
    "import matplotlib.pyplot as plt\n",
    "import seaborn as sns"
   ]
  },
  {
   "cell_type": "code",
   "execution_count": 142,
   "metadata": {},
   "outputs": [
    {
     "data": {
      "text/html": [
       "<div>\n",
       "<style scoped>\n",
       "    .dataframe tbody tr th:only-of-type {\n",
       "        vertical-align: middle;\n",
       "    }\n",
       "\n",
       "    .dataframe tbody tr th {\n",
       "        vertical-align: top;\n",
       "    }\n",
       "\n",
       "    .dataframe thead th {\n",
       "        text-align: right;\n",
       "    }\n",
       "</style>\n",
       "<table border=\"1\" class=\"dataframe\">\n",
       "  <thead>\n",
       "    <tr style=\"text-align: right;\">\n",
       "      <th></th>\n",
       "      <th>text</th>\n",
       "      <th>sentiment</th>\n",
       "    </tr>\n",
       "  </thead>\n",
       "  <tbody>\n",
       "    <tr>\n",
       "      <th>0</th>\n",
       "      <td>So there is no way for me to plug it in here i...</td>\n",
       "      <td>0</td>\n",
       "    </tr>\n",
       "    <tr>\n",
       "      <th>1</th>\n",
       "      <td>Good case, Excellent value.</td>\n",
       "      <td>1</td>\n",
       "    </tr>\n",
       "    <tr>\n",
       "      <th>2</th>\n",
       "      <td>Great for the jawbone.</td>\n",
       "      <td>1</td>\n",
       "    </tr>\n",
       "    <tr>\n",
       "      <th>3</th>\n",
       "      <td>Tied to charger for conversations lasting more...</td>\n",
       "      <td>0</td>\n",
       "    </tr>\n",
       "    <tr>\n",
       "      <th>4</th>\n",
       "      <td>The mic is great.</td>\n",
       "      <td>1</td>\n",
       "    </tr>\n",
       "  </tbody>\n",
       "</table>\n",
       "</div>"
      ],
      "text/plain": [
       "                                                text  sentiment\n",
       "0  So there is no way for me to plug it in here i...          0\n",
       "1                        Good case, Excellent value.          1\n",
       "2                             Great for the jawbone.          1\n",
       "3  Tied to charger for conversations lasting more...          0\n",
       "4                                  The mic is great.          1"
      ]
     },
     "execution_count": 142,
     "metadata": {},
     "output_type": "execute_result"
    }
   ],
   "source": [
    "#load the dataset...\n",
    "df = pd.read_csv('amazon_cells_labelled.txt', sep=\"\\t\", header=None)\n",
    "df.columns = ['text', 'sentiment']\n",
    "\n",
    "df.head()"
   ]
  },
  {
   "cell_type": "code",
   "execution_count": 143,
   "metadata": {},
   "outputs": [],
   "source": [
    "#df of positive movies\n",
    "positive_df = df.loc[movie_df.sentiment == 1].reset_index()\n",
    "#create a dictionary of positive words\n",
    "words = {}\n",
    "\n",
    "for i in range(len(positive_df.text)):\n",
    "    sentence = positive_df.text[i].split(' ')\n",
    "    for j in range(len(sentence)):\n",
    "        if (sentence[j].lower() in words):\n",
    "            words[sentence[j].lower()] += 1\n",
    "        else:\n",
    "            words.update({sentence[j].lower() : 1})"
   ]
  },
  {
   "cell_type": "code",
   "execution_count": 144,
   "metadata": {},
   "outputs": [
    {
     "name": "stdout",
     "output_type": "stream",
     "text": [
      "good : 3.68\n",
      "excellent : 1.39\n",
      "great : 4.31\n",
      "for : 4.51\n",
      "the : 16.46\n",
      "is : 9.65\n",
      "great. : 1.04\n",
      "you : 1.39\n",
      "are : 1.46\n",
      "have : 2.57\n",
      "and : 13.06\n",
      "sound : 1.53\n",
      "quality : 1.46\n",
      "was : 2.5\n",
      "very : 4.79\n",
      "when : 0.49\n",
      "from : 1.11\n",
      "battery : 1.39\n",
      "to : 5.9\n",
      "highly : 0.56\n",
      "recommend : 1.25\n",
      "any : 1.04\n",
      "one : 1.53\n",
      "has : 1.67\n",
      "a : 7.22\n",
      "phone. : 1.39\n",
      "so : 1.81\n",
      "works : 2.99\n",
      "i : 10.49\n",
      "bought : 0.56\n",
      "this : 6.94\n",
      "use : 0.9\n",
      "with : 4.31\n",
      "my : 5.0\n",
      "new : 0.69\n",
      "without : 0.49\n",
      "phone : 3.96\n",
      "i've : 1.32\n",
      "can : 0.76\n",
      "that : 2.08\n",
      "it's : 1.11\n",
      "best : 1.32\n",
      "product : 1.04\n",
      "like : 1.25\n",
      "car : 0.56\n",
      "as : 1.39\n",
      "well : 1.18\n",
      "of : 3.4\n",
      "it : 7.5\n",
      "up : 0.76\n",
      "well. : 0.83\n",
      "case : 0.49\n",
      "camera : 0.49\n",
      "nice : 1.32\n",
      "clear : 0.49\n",
      "quality. : 0.56\n",
      "headset : 1.67\n",
      "bluetooth : 0.69\n",
      "all : 1.18\n",
      "does : 0.49\n",
      "not : 0.97\n",
      "just : 0.83\n",
      "pretty : 0.56\n",
      "had : 1.18\n",
      "it. : 0.9\n",
      "love : 1.39\n",
      "about : 0.49\n",
      "price : 0.76\n",
      "even : 0.76\n",
      "been : 0.83\n",
      "happy : 0.9\n",
      "no : 0.83\n",
      "on : 2.99\n",
      "really : 1.04\n",
      "these : 0.83\n",
      "- : 0.97\n",
      "they : 0.62\n",
      "in : 2.36\n",
      "comfortable : 0.76\n",
      "than : 1.32\n",
      "because : 0.62\n",
      "device : 0.49\n",
      "or : 0.56\n",
      "product. : 0.83\n",
      "lot : 0.49\n",
      "easy : 0.83\n",
      "better : 0.76\n",
      "worked : 0.69\n",
      "2 : 0.56\n",
      "also : 0.69\n",
      "reception : 0.56\n",
      "ear : 0.76\n",
      "its : 0.56\n",
      "but : 1.39\n",
      "cell : 0.56\n",
      "jabra : 0.49\n",
      "fits : 0.69\n",
      "price. : 0.62\n",
      "got : 0.62\n",
      "i'm : 0.69\n",
      "work : 0.56\n",
      "would : 1.11\n",
      "get : 0.56\n",
      "be : 0.69\n",
      "your : 0.97\n",
      "am : 0.83\n",
      "working : 0.62\n",
      "an : 0.69\n",
      "at : 0.56\n",
      "much : 0.49\n"
     ]
    }
   ],
   "source": [
    "#a list of all the positive word counts\n",
    "values = []\n",
    "for i in words:\n",
    "    values.append(words[i])\n",
    "#iterate and find the highest used words\n",
    "for word in words:\n",
    "    if (words[word] > np.percentile(values, 92)):\n",
    "        print('{} : {}'.format(word, round(words[word] / len(words) * 100, 2)))"
   ]
  },
  {
   "cell_type": "code",
   "execution_count": 145,
   "metadata": {},
   "outputs": [],
   "source": [
    "keywords = ['good', 'great', 'very', 'excellent', 'best', 'recommend', 'quality', 'love', 'easy', 'happy']\n",
    "\n",
    "#create columns based on the presence of our keywords\n",
    "for key in keywords:\n",
    "    # Note that we add spaces around the key so that we're getting the word, not the pattern\n",
    "    df[str(key)] = df.text.str.contains(str(key), case=False)"
   ]
  },
  {
   "cell_type": "code",
   "execution_count": 146,
   "metadata": {},
   "outputs": [],
   "source": [
    "#turn our 0 and 1's into true and false...DON'T RUN AGAIN!!!\n",
    "df.sentiment = (df.sentiment == 1)"
   ]
  },
  {
   "cell_type": "code",
   "execution_count": 147,
   "metadata": {},
   "outputs": [
    {
     "data": {
      "image/png": "[encoded data removed]",
      "text/plain": [
       "<Figure size 432x288 with 2 Axes>"
      ]
     },
     "metadata": {
      "needs_background": "light"
     },
     "output_type": "display_data"
    }
   ],
   "source": [
    "sns.heatmap(df.corr(), linewidth=0.5)\n",
    "plt.show()"
   ]
  },
  {
   "cell_type": "markdown",
   "metadata": {},
   "source": [
    "Ok, this seems like there aren't many correlations between our features. Let's see how accurate we are!"
   ]
  },
  {
   "cell_type": "code",
   "execution_count": 148,
   "metadata": {},
   "outputs": [],
   "source": [
    "data = df[keywords]\n",
    "target = df['sentiment']"
   ]
  },
  {
   "cell_type": "code",
   "execution_count": 149,
   "metadata": {
    "scrolled": true
   },
   "outputs": [
    {
     "name": "stdout",
     "output_type": "stream",
     "text": [
      "Number of mislabeled points out of a total 1000 points : 265\n"
     ]
    }
   ],
   "source": [
    "# Our data is binary / boolean, so we're importing the Bernoulli classifier.\n",
    "from sklearn.naive_bayes import BernoulliNB\n",
    "\n",
    "# Instantiate our model and store it in a new variable.\n",
    "bnb = BernoulliNB()\n",
    "\n",
    "# Fit our model to the data.\n",
    "bnb.fit(data, target)\n",
    "\n",
    "# Classify, storing the result in a new variable.\n",
    "y_pred = bnb.predict(data)\n",
    "\n",
    "# Display our results.\n",
    "print(\"Number of mislabeled points out of a total {} points : {}\".format(\n",
    "    data.shape[0],\n",
    "    (target != y_pred).sum()\n",
    "))"
   ]
  },
  {
   "cell_type": "code",
   "execution_count": 150,
   "metadata": {},
   "outputs": [
    {
     "name": "stdout",
     "output_type": "stream",
     "text": [
      "Our model is 73.5% accurate\n"
     ]
    }
   ],
   "source": [
    "#percent accuracy\n",
    "print('Our model is {}% accurate'.format(100 - (target != y_pred).sum() / data.shape[0] * 100, 2))"
   ]
  },
  {
   "cell_type": "code",
   "execution_count": 151,
   "metadata": {},
   "outputs": [
    {
     "data": {
      "text/html": [
       "<div>\n",
       "<style scoped>\n",
       "    .dataframe tbody tr th:only-of-type {\n",
       "        vertical-align: middle;\n",
       "    }\n",
       "\n",
       "    .dataframe tbody tr th {\n",
       "        vertical-align: top;\n",
       "    }\n",
       "\n",
       "    .dataframe thead th {\n",
       "        text-align: right;\n",
       "    }\n",
       "</style>\n",
       "<table border=\"1\" class=\"dataframe\">\n",
       "  <thead>\n",
       "    <tr style=\"text-align: right;\">\n",
       "      <th></th>\n",
       "      <th>text</th>\n",
       "      <th>sentiment</th>\n",
       "      <th>good</th>\n",
       "      <th>great</th>\n",
       "      <th>very</th>\n",
       "      <th>excellent</th>\n",
       "      <th>best</th>\n",
       "      <th>recommend</th>\n",
       "      <th>quality</th>\n",
       "      <th>love</th>\n",
       "      <th>easy</th>\n",
       "      <th>happy</th>\n",
       "    </tr>\n",
       "  </thead>\n",
       "  <tbody>\n",
       "    <tr>\n",
       "      <th>0</th>\n",
       "      <td>So there is no way for me to plug it in here i...</td>\n",
       "      <td>False</td>\n",
       "      <td>False</td>\n",
       "      <td>False</td>\n",
       "      <td>False</td>\n",
       "      <td>False</td>\n",
       "      <td>False</td>\n",
       "      <td>False</td>\n",
       "      <td>False</td>\n",
       "      <td>False</td>\n",
       "      <td>False</td>\n",
       "      <td>False</td>\n",
       "    </tr>\n",
       "    <tr>\n",
       "      <th>1</th>\n",
       "      <td>Good case, Excellent value.</td>\n",
       "      <td>True</td>\n",
       "      <td>True</td>\n",
       "      <td>False</td>\n",
       "      <td>False</td>\n",
       "      <td>True</td>\n",
       "      <td>False</td>\n",
       "      <td>False</td>\n",
       "      <td>False</td>\n",
       "      <td>False</td>\n",
       "      <td>False</td>\n",
       "      <td>False</td>\n",
       "    </tr>\n",
       "    <tr>\n",
       "      <th>2</th>\n",
       "      <td>Great for the jawbone.</td>\n",
       "      <td>True</td>\n",
       "      <td>False</td>\n",
       "      <td>True</td>\n",
       "      <td>False</td>\n",
       "      <td>False</td>\n",
       "      <td>False</td>\n",
       "      <td>False</td>\n",
       "      <td>False</td>\n",
       "      <td>False</td>\n",
       "      <td>False</td>\n",
       "      <td>False</td>\n",
       "    </tr>\n",
       "    <tr>\n",
       "      <th>3</th>\n",
       "      <td>Tied to charger for conversations lasting more...</td>\n",
       "      <td>False</td>\n",
       "      <td>False</td>\n",
       "      <td>False</td>\n",
       "      <td>False</td>\n",
       "      <td>False</td>\n",
       "      <td>False</td>\n",
       "      <td>False</td>\n",
       "      <td>False</td>\n",
       "      <td>False</td>\n",
       "      <td>False</td>\n",
       "      <td>False</td>\n",
       "    </tr>\n",
       "    <tr>\n",
       "      <th>4</th>\n",
       "      <td>The mic is great.</td>\n",
       "      <td>True</td>\n",
       "      <td>False</td>\n",
       "      <td>True</td>\n",
       "      <td>False</td>\n",
       "      <td>False</td>\n",
       "      <td>False</td>\n",
       "      <td>False</td>\n",
       "      <td>False</td>\n",
       "      <td>False</td>\n",
       "      <td>False</td>\n",
       "      <td>False</td>\n",
       "    </tr>\n",
       "  </tbody>\n",
       "</table>\n",
       "</div>"
      ],
      "text/plain": [
       "                                                text  sentiment   good  great  \\\n",
       "0  So there is no way for me to plug it in here i...      False  False  False   \n",
       "1                        Good case, Excellent value.       True   True  False   \n",
       "2                             Great for the jawbone.       True  False   True   \n",
       "3  Tied to charger for conversations lasting more...      False  False  False   \n",
       "4                                  The mic is great.       True  False   True   \n",
       "\n",
       "    very  excellent   best  recommend  quality   love   easy  happy  \n",
       "0  False      False  False      False    False  False  False  False  \n",
       "1  False       True  False      False    False  False  False  False  \n",
       "2  False      False  False      False    False  False  False  False  \n",
       "3  False      False  False      False    False  False  False  False  \n",
       "4  False      False  False      False    False  False  False  False  "
      ]
     },
     "execution_count": 151,
     "metadata": {},
     "output_type": "execute_result"
    }
   ],
   "source": [
    "df2 = pd.read_csv('imdb_labelled.txt', sep=\"\\t\", header=None)\n",
    "df2.columns = ['text', 'sentiment']\n",
    "\n",
    "df.head()"
   ]
  },
  {
   "cell_type": "code",
   "execution_count": 152,
   "metadata": {},
   "outputs": [],
   "source": [
    "keywords = ['good', 'great', 'very', 'excellent', 'best', 'recommend', 'quality', 'love', 'easy', 'happy']\n",
    "\n",
    "#create columns based on the presence of our keywords\n",
    "for key in keywords:\n",
    "    # Note that we add spaces around the key so that we're getting the word, not the pattern\n",
    "    df2[str(key)] = df2.text.str.contains(str(key), case=False)"
   ]
  },
  {
   "cell_type": "code",
   "execution_count": 153,
   "metadata": {},
   "outputs": [],
   "source": [
    "#turn our 0 and 1's into true and false...DON'T RUN AGAIN!!!\n",
    "df2.sentiment = (df2.sentiment == 1)"
   ]
  },
  {
   "cell_type": "code",
   "execution_count": 159,
   "metadata": {},
   "outputs": [
    {
     "data": {
      "image/png": "[encoded data removed]",
      "text/plain": [
       "<Figure size 432x288 with 2 Axes>"
      ]
     },
     "metadata": {
      "needs_background": "light"
     },
     "output_type": "display_data"
    }
   ],
   "source": [
    "sns.heatmap(df2.corr(), linewidth=0.5)\n",
    "plt.show()"
   ]
  },
  {
   "cell_type": "code",
   "execution_count": 160,
   "metadata": {},
   "outputs": [],
   "source": [
    "data = df2[keywords]\n",
    "target = df2['sentiment']"
   ]
  },
  {
   "cell_type": "code",
   "execution_count": 161,
   "metadata": {},
   "outputs": [
    {
     "name": "stdout",
     "output_type": "stream",
     "text": [
      "Number of mislabeled points out of a total 748 points : 314\n"
     ]
    }
   ],
   "source": [
    "# Our data is binary / boolean, so we're importing the Bernoulli classifier.\n",
    "from sklearn.naive_bayes import BernoulliNB\n",
    "\n",
    "# Instantiate our model and store it in a new variable.\n",
    "bnb = BernoulliNB()\n",
    "\n",
    "# Fit our model to the data.\n",
    "bnb.fit(data, target)\n",
    "\n",
    "# Classify, storing the result in a new variable.\n",
    "y_pred = bnb.predict(data)\n",
    "\n",
    "# Display our results.\n",
    "print(\"Number of mislabeled points out of a total {} points : {}\".format(\n",
    "    data.shape[0],\n",
    "    (target != y_pred).sum()\n",
    "))"
   ]
  },
  {
   "cell_type": "code",
   "execution_count": 162,
   "metadata": {},
   "outputs": [
    {
     "name": "stdout",
     "output_type": "stream",
     "text": [
      "Our model is 58.02139037433155% accurate\n"
     ]
    }
   ],
   "source": [
    "#percent accuracy\n",
    "print('Our model is {}% accurate'.format(100 - (target != y_pred).sum() / data.shape[0] * 100, 2))"
   ]
  },
  {
   "cell_type": "code",
   "execution_count": 163,
   "metadata": {},
   "outputs": [
    {
     "name": "stdout",
     "output_type": "stream",
     "text": [
      "Our model is 58.02139037433155% accurate\n"
     ]
    }
   ],
   "source": [
    "#percent accuracy\n",
    "print('Our model is {}% accurate'.format(100 - (target != y_pred).sum() / data.shape[0] * 100, 2))"
   ]
  }
 ],
 "metadata": {
  "kernelspec": {
   "display_name": "Python 3",
   "language": "python",
   "name": "python3"
  },
  "language_info": {
   "codemirror_mode": {
    "name": "ipython",
    "version": 3
   },
   "file_extension": ".py",
   "mimetype": "text/x-python",
   "name": "python",
   "nbconvert_exporter": "python",
   "pygments_lexer": "ipython3",
   "version": "3.7.3"
  }
 },
 "nbformat": 4,
 "nbformat_minor": 2
}
